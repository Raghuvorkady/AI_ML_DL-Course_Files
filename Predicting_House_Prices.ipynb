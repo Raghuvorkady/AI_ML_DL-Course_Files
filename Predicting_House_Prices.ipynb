{
  "nbformat": 4,
  "nbformat_minor": 0,
  "metadata": {
    "colab": {
      "name": "Predicting House Prices.ipynb",
      "provenance": [],
      "collapsed_sections": [],
      "authorship_tag": "ABX9TyOzkWDUN1sWLAtLszpfGGCd",
      "include_colab_link": true
    },
    "kernelspec": {
      "name": "python3",
      "display_name": "Python 3"
    }
  },
  "cells": [
    {
      "cell_type": "markdown",
      "metadata": {
        "id": "view-in-github",
        "colab_type": "text"
      },
      "source": [
        "<a href=\"https://colab.research.google.com/github/Raghuvorkady/AI_ML_DL-Course_Files/blob/main/Predicting_House_Prices.ipynb\" target=\"_parent\"><img src=\"https://colab.research.google.com/assets/colab-badge.svg\" alt=\"Open In Colab\"/></a>"
      ]
    },
    {
      "cell_type": "markdown",
      "metadata": {
        "id": "ll7P0u7rzCm0"
      },
      "source": [
        "# Fire up graphlab create"
      ]
    },
    {
      "cell_type": "code",
      "metadata": {
        "id": "atU6NZQJyoDu"
      },
      "source": [
        "pip install -U turicreate"
      ],
      "execution_count": null,
      "outputs": []
    },
    {
      "cell_type": "markdown",
      "metadata": {
        "id": "BvlZP6NB8QnI"
      },
      "source": [
        "# Import Turi Create"
      ]
    },
    {
      "cell_type": "code",
      "metadata": {
        "id": "4G65A4gxy_k-"
      },
      "source": [
        "import turicreate"
      ],
      "execution_count": null,
      "outputs": []
    },
    {
      "cell_type": "markdown",
      "metadata": {
        "id": "7MBbjb4l8ZSn"
      },
      "source": [
        "# Mount Google Drive(to load the dataset)"
      ]
    },
    {
      "cell_type": "code",
      "metadata": {
        "id": "phDiCN2yzYaU"
      },
      "source": [
        "from google.colab import drive\n",
        "drive.mount('/content/gdrive')"
      ],
      "execution_count": null,
      "outputs": []
    },
    {
      "cell_type": "markdown",
      "metadata": {
        "id": "HImogdQB8eqy"
      },
      "source": [
        "## Listing the files inside the gdrive"
      ]
    },
    {
      "cell_type": "code",
      "metadata": {
        "id": "8IXJ_QwgYe0_"
      },
      "source": [
        "ls -l '/content/gdrive/My Drive/Colab Notebooks/home_data.sframe'"
      ],
      "execution_count": null,
      "outputs": []
    },
    {
      "cell_type": "markdown",
      "metadata": {
        "id": "lFCN6H0x8Uh_"
      },
      "source": [
        "# Load house sales data"
      ]
    },
    {
      "cell_type": "code",
      "metadata": {
        "id": "T4R3EipD_xBs"
      },
      "source": [
        "sales = turicreate.SFrame('/content/gdrive/My Drive/Colab Notebooks/home_data.sframe')"
      ],
      "execution_count": null,
      "outputs": []
    },
    {
      "cell_type": "markdown",
      "metadata": {
        "id": "w41yoZtm8qHP"
      },
      "source": [
        "# Explore"
      ]
    },
    {
      "cell_type": "code",
      "metadata": {
        "id": "fT4aSYnvANxE"
      },
      "source": [
        "sales"
      ],
      "execution_count": null,
      "outputs": []
    },
    {
      "cell_type": "code",
      "metadata": {
        "id": "VsSzkXtFBk6n"
      },
      "source": [
        "turicreate.show(sales[1:5000]['sqft_living'],sales[1:5000]['price'])"
      ],
      "execution_count": null,
      "outputs": []
    },
    {
      "cell_type": "markdown",
      "metadata": {
        "id": "CRB5WQJH8vMK"
      },
      "source": [
        "# Simple regression model that predicts price from square feet"
      ]
    },
    {
      "cell_type": "code",
      "metadata": {
        "id": "6mym-NhKX2M8"
      },
      "source": [
        "training_set, test_set = sales.random_split(.8,seed=0)"
      ],
      "execution_count": null,
      "outputs": []
    },
    {
      "cell_type": "markdown",
      "metadata": {
        "id": "PKcgcEIe822o"
      },
      "source": [
        "## train simple regression model"
      ]
    },
    {
      "cell_type": "code",
      "metadata": {
        "id": "Pl-YlQztaB0w"
      },
      "source": [
        "sqft_model = turicreate.linear_regression.create(training_set,target='price',features=['sqft_living'])"
      ],
      "execution_count": null,
      "outputs": []
    },
    {
      "cell_type": "markdown",
      "metadata": {
        "id": "26xwe1cVbvLY"
      },
      "source": [
        "# Evaluate the quality of our model\n"
      ]
    },
    {
      "cell_type": "code",
      "metadata": {
        "id": "xNcG84SQaUy4"
      },
      "source": [
        "print (test_set['price'].mean())"
      ],
      "execution_count": null,
      "outputs": []
    },
    {
      "cell_type": "code",
      "metadata": {
        "id": "Nl2QN4PibTxB"
      },
      "source": [
        "print (sqft_model.evaluate(test_set))"
      ],
      "execution_count": null,
      "outputs": []
    },
    {
      "cell_type": "markdown",
      "metadata": {
        "id": "sEfYiTogbo0A"
      },
      "source": [
        "# Explore model a little further"
      ]
    },
    {
      "cell_type": "code",
      "metadata": {
        "id": "lF_mLF6lbl7p"
      },
      "source": [
        "import matplotlib.pyplot as plt\n",
        "%matplotlib inline"
      ],
      "execution_count": null,
      "outputs": []
    },
    {
      "cell_type": "code",
      "metadata": {
        "id": "SjsoWGpdb6PC"
      },
      "source": [
        "plt.plot(test_set['sqft_living'],test_set['price'],'.',\n",
        "         test_set['sqft_living'],sqft_model.predict(test_set),'-')"
      ],
      "execution_count": null,
      "outputs": []
    },
    {
      "cell_type": "code",
      "metadata": {
        "id": "3LWuaspMcX-o"
      },
      "source": [
        "sqft_model.coefficients"
      ],
      "execution_count": null,
      "outputs": []
    },
    {
      "cell_type": "markdown",
      "metadata": {
        "id": "TN1ABs2Kcuiq"
      },
      "source": [
        "# Explore other features of the data"
      ]
    },
    {
      "cell_type": "code",
      "metadata": {
        "id": "F2mtByVjcnVZ"
      },
      "source": [
        "my_features = ['bedrooms','bathrooms','sqft_living','sqft_lot','floors','zipcode']"
      ],
      "execution_count": null,
      "outputs": []
    },
    {
      "cell_type": "code",
      "metadata": {
        "id": "sKm0ytu-cxAZ"
      },
      "source": [
        "sales[my_features].show()"
      ],
      "execution_count": null,
      "outputs": []
    },
    {
      "cell_type": "code",
      "metadata": {
        "id": "tiH0ZKmUc0rI"
      },
      "source": [
        "turicreate.show(sales['zipcode'],sales['price'])"
      ],
      "execution_count": null,
      "outputs": []
    },
    {
      "cell_type": "markdown",
      "metadata": {
        "id": "48ywD-WVeBNQ"
      },
      "source": [
        "# Build a model with these additional features"
      ]
    },
    {
      "cell_type": "code",
      "metadata": {
        "id": "xX5Uk4M5dfY5"
      },
      "source": [
        "my_features_model = turicreate.linear_regression.create(training_set, target='price', features=my_features)"
      ],
      "execution_count": null,
      "outputs": []
    },
    {
      "cell_type": "markdown",
      "metadata": {
        "id": "ijPshpDl9EfV"
      },
      "source": [
        "# Compare simple model with more complex one"
      ]
    },
    {
      "cell_type": "code",
      "metadata": {
        "id": "elifbtcdeJJY"
      },
      "source": [
        "print(my_features)"
      ],
      "execution_count": null,
      "outputs": []
    },
    {
      "cell_type": "code",
      "metadata": {
        "id": "lvEEZ_LPeN_h"
      },
      "source": [
        "print (sqft_model.evaluate(test_set))\n",
        "print (my_features_model.evaluate(test_set))"
      ],
      "execution_count": null,
      "outputs": []
    },
    {
      "cell_type": "markdown",
      "metadata": {
        "id": "Yu1zucuxeneB"
      },
      "source": [
        "# Apply learned models to make predictions"
      ]
    },
    {
      "cell_type": "code",
      "metadata": {
        "id": "JPlYkjkDeVBQ"
      },
      "source": [
        "house1 = sales[sales['id']=='5309101200']"
      ],
      "execution_count": null,
      "outputs": []
    },
    {
      "cell_type": "code",
      "metadata": {
        "id": "ZVOAAXLKelyE"
      },
      "source": [
        "house1"
      ],
      "execution_count": null,
      "outputs": []
    },
    {
      "cell_type": "code",
      "metadata": {
        "id": "BTESnQZIfQGb"
      },
      "source": [
        "print (house1['price'])"
      ],
      "execution_count": null,
      "outputs": []
    },
    {
      "cell_type": "code",
      "metadata": {
        "id": "--VFSBW0fn_I"
      },
      "source": [
        "print (sqft_model.predict(house1))"
      ],
      "execution_count": null,
      "outputs": []
    },
    {
      "cell_type": "code",
      "metadata": {
        "id": "SFWxKiORfxYH"
      },
      "source": [
        "print (my_features_model.predict(house1))"
      ],
      "execution_count": null,
      "outputs": []
    },
    {
      "cell_type": "markdown",
      "metadata": {
        "id": "QTrq8canf6EO"
      },
      "source": [
        "## Prediction for a second house, a fancier one"
      ]
    },
    {
      "cell_type": "code",
      "metadata": {
        "id": "65IyXpflfytG"
      },
      "source": [
        "house2 = sales[sales['id']=='1925069082']"
      ],
      "execution_count": null,
      "outputs": []
    },
    {
      "cell_type": "code",
      "metadata": {
        "id": "S5z14Z2Sf-yP"
      },
      "source": [
        "house2"
      ],
      "execution_count": null,
      "outputs": []
    },
    {
      "cell_type": "code",
      "metadata": {
        "id": "tUhkYspRgAhd"
      },
      "source": [
        "print (house2['price'])"
      ],
      "execution_count": null,
      "outputs": []
    },
    {
      "cell_type": "code",
      "metadata": {
        "id": "hJITysmIgZGO"
      },
      "source": [
        "print (sqft_model.predict(house2))"
      ],
      "execution_count": null,
      "outputs": []
    },
    {
      "cell_type": "code",
      "metadata": {
        "id": "42802gs4gbPe"
      },
      "source": [
        "print (my_features_model.predict(house2))"
      ],
      "execution_count": null,
      "outputs": []
    },
    {
      "cell_type": "markdown",
      "metadata": {
        "id": "Z8l2syPegu7l"
      },
      "source": [
        "## Prediction for a super fancy home"
      ]
    },
    {
      "cell_type": "code",
      "metadata": {
        "id": "RAygpi7EgdEV"
      },
      "source": [
        "bill_gates = {'bedrooms':[8], \n",
        "              'bathrooms':[25], \n",
        "              'sqft_living':[50000], \n",
        "              'sqft_lot':[225000],\n",
        "              'floors':[4], \n",
        "              'zipcode':['98039'], \n",
        "              'condition':[10], \n",
        "              'grade':[10],\n",
        "              'waterfront':[1],\n",
        "              'view':[4],\n",
        "              'sqft_above':[37500],\n",
        "              'sqft_basement':[12500],\n",
        "              'yr_built':[1994],\n",
        "              'yr_renovated':[2010],\n",
        "              'lat':[47.627606],\n",
        "              'long':[-122.242054],\n",
        "              'sqft_living15':[5000],\n",
        "              'sqft_lot15':[40000]}"
      ],
      "execution_count": null,
      "outputs": []
    },
    {
      "cell_type": "code",
      "metadata": {
        "id": "1KPuVZP4g3NE"
      },
      "source": [
        "print (sqft_model.predict(turicreate.SFrame(bill_gates)))"
      ],
      "execution_count": null,
      "outputs": []
    },
    {
      "cell_type": "code",
      "metadata": {
        "id": "a1KFikg9gyTt"
      },
      "source": [
        "print (my_features_model.predict(turicreate.SFrame(bill_gates)))"
      ],
      "execution_count": null,
      "outputs": []
    }
  ]
}