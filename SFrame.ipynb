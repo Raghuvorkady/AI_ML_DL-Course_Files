{
  "nbformat": 4,
  "nbformat_minor": 0,
  "metadata": {
    "colab": {
      "name": "SFrame.ipynb",
      "provenance": [],
      "collapsed_sections": [],
      "authorship_tag": "ABX9TyOq9sDvQYDhLkgpu+mx08cl",
      "include_colab_link": true
    },
    "kernelspec": {
      "name": "python3",
      "display_name": "Python 3"
    }
  },
  "cells": [
    {
      "cell_type": "markdown",
      "metadata": {
        "id": "view-in-github",
        "colab_type": "text"
      },
      "source": [
        "<a href=\"https://colab.research.google.com/github/Raghuvorkady/Introduction-to-TensorFlow-Course/blob/main/SFrame.ipynb\" target=\"_parent\"><img src=\"https://colab.research.google.com/assets/colab-badge.svg\" alt=\"Open In Colab\"/></a>"
      ]
    },
    {
      "cell_type": "markdown",
      "metadata": {
        "id": "OfXmU780A9y4"
      },
      "source": [
        "# Install turicreate"
      ]
    },
    {
      "cell_type": "code",
      "metadata": {
        "id": "KaRjXy05sche"
      },
      "source": [
        "pip install -U turicreate"
      ],
      "execution_count": null,
      "outputs": []
    },
    {
      "cell_type": "markdown",
      "metadata": {
        "id": "zccatRUvBD4F"
      },
      "source": [
        "# Fire up Turi Create\n",
        "\n",
        "We always start with this line before using any part of Turi Create"
      ]
    },
    {
      "cell_type": "code",
      "metadata": {
        "id": "XN700i5N744O"
      },
      "source": [
        "import turicreate"
      ],
      "execution_count": null,
      "outputs": []
    },
    {
      "cell_type": "markdown",
      "metadata": {
        "id": "uix-MG1gBHwV"
      },
      "source": [
        "## import the .csv file"
      ]
    },
    {
      "cell_type": "code",
      "metadata": {
        "id": "hrZjfZRx8f9J"
      },
      "source": [
        "from google.colab import files\n",
        "files.upload()"
      ],
      "execution_count": null,
      "outputs": []
    },
    {
      "cell_type": "markdown",
      "metadata": {
        "id": "H5dxRPqHBHCd"
      },
      "source": [
        "# Load a tabular data set"
      ]
    },
    {
      "cell_type": "code",
      "metadata": {
        "id": "CSue4F238jZQ"
      },
      "source": [
        "sf = turicreate.SFrame('people-example.csv')"
      ],
      "execution_count": null,
      "outputs": []
    },
    {
      "cell_type": "markdown",
      "metadata": {
        "id": "05zaLVPpBQAw"
      },
      "source": [
        "# SFrame basics"
      ]
    },
    {
      "cell_type": "code",
      "metadata": {
        "id": "MlpVmWC9_fn2"
      },
      "source": [
        "sf"
      ],
      "execution_count": null,
      "outputs": []
    },
    {
      "cell_type": "code",
      "metadata": {
        "id": "nLPGd1ja_hHX"
      },
      "source": [
        "sf.tail()"
      ],
      "execution_count": null,
      "outputs": []
    },
    {
      "cell_type": "markdown",
      "metadata": {
        "id": "E__i2GkEBULX"
      },
      "source": [
        "# Turi Create visualization"
      ]
    },
    {
      "cell_type": "code",
      "metadata": {
        "id": "CzbZNarL_pTK"
      },
      "source": [
        "sf.show()"
      ],
      "execution_count": null,
      "outputs": []
    },
    {
      "cell_type": "code",
      "metadata": {
        "id": "zrKJ17rN_tXR"
      },
      "source": [
        "sf[\"age\"].show()"
      ],
      "execution_count": null,
      "outputs": []
    },
    {
      "cell_type": "markdown",
      "metadata": {
        "id": "hOeqA2xPBYfO"
      },
      "source": [
        "# Inspect columns of dataset"
      ]
    },
    {
      "cell_type": "code",
      "metadata": {
        "id": "Gt3HnoW0AT5w"
      },
      "source": [
        "sf[\"Country\"]"
      ],
      "execution_count": null,
      "outputs": []
    },
    {
      "cell_type": "code",
      "metadata": {
        "id": "RbIuNZw1Agd3"
      },
      "source": [
        "sf[\"age\"]"
      ],
      "execution_count": null,
      "outputs": []
    },
    {
      "cell_type": "code",
      "metadata": {
        "id": "n2o0sNmnBtRn"
      },
      "source": [
        "sf[\"age\"].mean()"
      ],
      "execution_count": null,
      "outputs": []
    },
    {
      "cell_type": "code",
      "metadata": {
        "id": "SNehFlIPBwh9"
      },
      "source": [
        "sf[\"age\"].max()"
      ],
      "execution_count": null,
      "outputs": []
    },
    {
      "cell_type": "markdown",
      "metadata": {
        "id": "4kyDyfJmB4cQ"
      },
      "source": [
        "# Create new columns in our SFrame"
      ]
    },
    {
      "cell_type": "code",
      "metadata": {
        "id": "TmAE3BROBzy9"
      },
      "source": [
        "sf[\"Full Name\"] = sf[\"First Name\"] + \" \" + sf[\"Last Name\"]"
      ],
      "execution_count": null,
      "outputs": []
    },
    {
      "cell_type": "code",
      "metadata": {
        "id": "oY8nHV9tB3T9"
      },
      "source": [
        "sf"
      ],
      "execution_count": null,
      "outputs": []
    },
    {
      "cell_type": "code",
      "metadata": {
        "id": "xZvVVt9uCLxA"
      },
      "source": [
        "sf[\"age\"] + 2"
      ],
      "execution_count": null,
      "outputs": []
    },
    {
      "cell_type": "code",
      "metadata": {
        "id": "Kp0o9v9zCa59"
      },
      "source": [
        "sf[\"age\"]"
      ],
      "execution_count": null,
      "outputs": []
    },
    {
      "cell_type": "markdown",
      "metadata": {
        "id": "ukG5VXJZFfgB"
      },
      "source": [
        "# Use the apply function to do a advance transformation of our data\n"
      ]
    },
    {
      "cell_type": "code",
      "metadata": {
        "id": "E7tQoc4xDT73"
      },
      "source": [
        "sf[\"Country\"]"
      ],
      "execution_count": null,
      "outputs": []
    },
    {
      "cell_type": "code",
      "metadata": {
        "id": "NLXzhseBFh9r"
      },
      "source": [
        "sf[\"Country\"].show()"
      ],
      "execution_count": null,
      "outputs": []
    },
    {
      "cell_type": "code",
      "metadata": {
        "id": "tC-WjAlwFpiB"
      },
      "source": [
        "def transform_country(country):\n",
        "  if country == \"USA\":\n",
        "    return \"United States\"\n",
        "  else:\n",
        "    return country"
      ],
      "execution_count": null,
      "outputs": []
    },
    {
      "cell_type": "code",
      "metadata": {
        "id": "Bl0XMt5nGAJs"
      },
      "source": [
        "transform_country(\"Brazil\")"
      ],
      "execution_count": null,
      "outputs": []
    },
    {
      "cell_type": "code",
      "metadata": {
        "id": "4fgz3S9qGDh3"
      },
      "source": [
        "transform_country(\"USA\")"
      ],
      "execution_count": null,
      "outputs": []
    },
    {
      "cell_type": "code",
      "metadata": {
        "id": "MTCkVA2vGGqw"
      },
      "source": [
        "sf[\"Country\"].apply(transform_country)"
      ],
      "execution_count": null,
      "outputs": []
    },
    {
      "cell_type": "code",
      "metadata": {
        "id": "guESdIrCGQt-"
      },
      "source": [
        "sf[\"Country\"] = sf[\"Country\"].apply(transform_country)"
      ],
      "execution_count": null,
      "outputs": []
    },
    {
      "cell_type": "code",
      "metadata": {
        "id": "K-sADXLLGc1T"
      },
      "source": [
        "sf"
      ],
      "execution_count": null,
      "outputs": []
    },
    {
      "cell_type": "code",
      "metadata": {
        "id": "GYuFA42tGlAO"
      },
      "source": [
        "sf[\"Country\"].show()"
      ],
      "execution_count": null,
      "outputs": []
    },
    {
      "cell_type": "code",
      "metadata": {
        "id": "Z-WWqVrWGpv-"
      },
      "source": [
        ""
      ],
      "execution_count": null,
      "outputs": []
    }
  ]
}